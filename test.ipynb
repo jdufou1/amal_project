{
 "cells": [
  {
   "cell_type": "code",
   "execution_count": 1,
   "id": "e9cec76d-97b7-4405-85a3-abda80a302c6",
   "metadata": {},
   "outputs": [
    {
     "name": "stderr",
     "output_type": "stream",
     "text": [
      "C:\\Users\\User\\AppData\\Local\\Programs\\Python\\Python39\\lib\\site-packages\\tqdm\\auto.py:22: TqdmWarning: IProgress not found. Please update jupyter and ipywidgets. See https://ipywidgets.readthedocs.io/en/stable/user_install.html\n",
      "  from .autonotebook import tqdm as notebook_tqdm\n"
     ]
    }
   ],
   "source": [
    "import torch\n",
    "import torch.nn as nn\n",
    "\n",
    "import numpy as np\n",
    "import matplotlib.pyplot as plt\n",
    "\n",
    "from CoGan import StateCOGAN"
   ]
  },
  {
   "cell_type": "code",
   "execution_count": 2,
   "id": "1a2e9095-0f75-45b4-b334-6ed2d02fac32",
   "metadata": {},
   "outputs": [],
   "source": [
    "CLASSIFIER_MODEL_PATH = \"./classifier_model.pt\"\n",
    "device =  torch.device(\"cuda\" if torch.cuda.is_available() else \"cpu\")\n",
    "state_classifier = torch.load(CLASSIFIER_MODEL_PATH)"
   ]
  },
  {
   "cell_type": "code",
   "execution_count": 3,
   "id": "5c54b72a-5da7-4b2e-9a80-65a362480664",
   "metadata": {},
   "outputs": [],
   "source": [
    "SAVE_PATH = \"./cogan_model.pt\"\n",
    "state_cogan = torch.load(SAVE_PATH)"
   ]
  },
  {
   "cell_type": "code",
   "execution_count": 9,
   "id": "ba79ee3b-a7a1-4210-8b7c-415246170d20",
   "metadata": {},
   "outputs": [],
   "source": [
    "z = torch.randn(2 , 128).to(state_cogan.device)"
   ]
  },
  {
   "cell_type": "code",
   "execution_count": 15,
   "id": "61e0e236-a7c7-46b0-a155-a644d20b6807",
   "metadata": {},
   "outputs": [
    {
     "name": "stdout",
     "output_type": "stream",
     "text": [
      "torch.Size([1, 32, 32])\n"
     ]
    },
    {
     "data": {
      "text/plain": [
       "<matplotlib.image.AxesImage at 0x23e36a87700>"
      ]
     },
     "execution_count": 15,
     "metadata": {},
     "output_type": "execute_result"
    },
    {
     "data": {
      "image/png": "[encoded data removed]",
      "text/plain": [
       "<Figure size 640x480 with 1 Axes>"
      ]
     },
     "metadata": {},
     "output_type": "display_data"
    }
   ],
   "source": [
    "new_image = state_cogan.list_generator[0](z)[1]\n",
    "print(new_image.shape)\n",
    "plt.imshow(new_image.squeeze().cpu().detach().numpy() , cmap=\"gray\")"
   ]
  },
  {
   "cell_type": "code",
   "execution_count": 7,
   "id": "031e09d3-ec19-4bbf-a4a1-2dece7c76caa",
   "metadata": {},
   "outputs": [
    {
     "name": "stdout",
     "output_type": "stream",
     "text": [
      "Generator(\n",
      "  (model): Sequential(\n",
      "    (0): Linear(in_features=128, out_features=4096, bias=False)\n",
      "    (1): LeakyReLU(negative_slope=0.2)\n",
      "    (2): BatchNorm1d(4096, eps=1e-05, momentum=0.1, affine=True, track_running_stats=True)\n",
      "    (3): Unflatten(dim=1, unflattened_size=(1, 256, 4, 4))\n",
      "    (4): Upsample(size=(128, 8, 8), mode=nearest)\n",
      "    (5): Squeeze()\n",
      "    (6): Conv2d(128, 128, kernel_size=(3, 3), stride=(1, 1), padding=(1, 1), bias=False)\n",
      "    (7): LeakyReLU(negative_slope=0.2)\n",
      "    (8): BatchNorm2d(128, eps=1e-05, momentum=0.1, affine=True, track_running_stats=True)\n",
      "    (9): UnSqueeze()\n",
      "    (10): Upsample(size=(64, 16, 16), mode=nearest)\n",
      "    (11): Squeeze()\n",
      "    (12): Conv2d(64, 64, kernel_size=(3, 3), stride=(1, 1), padding=(1, 1), bias=False)\n",
      "    (13): LeakyReLU(negative_slope=0.2)\n",
      "    (14): BatchNorm2d(64, eps=1e-05, momentum=0.1, affine=True, track_running_stats=True)\n",
      "    (15): UnSqueeze()\n",
      "    (16): Upsample(size=(1, 32, 32), mode=nearest)\n",
      "    (17): Squeeze()\n",
      "    (18): Conv2d(1, 1, kernel_size=(3, 3), stride=(1, 1), padding=(1, 1), bias=False)\n",
      "    (19): Tanh()\n",
      "    (20): BatchNorm2d(1, eps=1e-05, momentum=0.1, affine=True, track_running_stats=True)\n",
      "    (21): Dropout(p=0.3, inplace=False)\n",
      "  )\n",
      ")\n"
     ]
    }
   ],
   "source": [
    "print(state_cogan.list_generator[0])"
   ]
  },
  {
   "cell_type": "code",
   "execution_count": null,
   "id": "acc997f3-a883-4cb5-b4ae-dc15203ed575",
   "metadata": {},
   "outputs": [],
   "source": []
  }
 ],
 "metadata": {
  "kernelspec": {
   "display_name": "Python 3 (ipykernel)",
   "language": "python",
   "name": "python3"
  },
  "language_info": {
   "codemirror_mode": {
    "name": "ipython",
    "version": 3
   },
   "file_extension": ".py",
   "mimetype": "text/x-python",
   "name": "python",
   "nbconvert_exporter": "python",
   "pygments_lexer": "ipython3",
   "version": "3.9.13"
  }
 },
 "nbformat": 4,
 "nbformat_minor": 5
}
